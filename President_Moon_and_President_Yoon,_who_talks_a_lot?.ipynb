{
  "nbformat": 4,
  "nbformat_minor": 0,
  "metadata": {
    "colab": {
      "provenance": [],
      "collapsed_sections": [],
      "mount_file_id": "1o9jGS_Nwf_m7BFa4xjaZy3iCzD_avTzk",
      "authorship_tag": "ABX9TyMapuincttB+njVj/qLOPPB",
      "include_colab_link": true
    },
    "kernelspec": {
      "name": "python3",
      "display_name": "Python 3"
    },
    "language_info": {
      "name": "python"
    }
  },
  "cells": [
    {
      "cell_type": "markdown",
      "metadata": {
        "id": "view-in-github",
        "colab_type": "text"
      },
      "source": [
        "<a href=\"https://colab.research.google.com/github/KILjungjoon/Image-PDFtoText/blob/main/President_Moon_and_President_Yoon%2C_who_talks_a_lot%3F.ipynb\" target=\"_parent\"><img src=\"https://colab.research.google.com/assets/colab-badge.svg\" alt=\"Open In Colab\"/></a>"
      ]
    },
    {
      "cell_type": "markdown",
      "source": [
        "* The analysis series is about **the language patterns of President Moon and President Yoon.** The data came from **the two presidents' answers to questions from reporters on the 100th day of their inauguration.**\n",
        "* Use an **independent t-test.**\n",
        "\n",
        "* 1st topic is that **\"President Moon and President Yoon, who talks a lot?\"**"
      ],
      "metadata": {
        "id": "ahEXhGaLeycg"
      }
    },
    {
      "cell_type": "markdown",
      "source": [
        "## 1.Loading Text"
      ],
      "metadata": {
        "id": "ApkXwoZkiQy-"
      }
    },
    {
      "cell_type": "code",
      "execution_count": 3,
      "metadata": {
        "colab": {
          "base_uri": "https://localhost:8080/"
        },
        "id": "OBRm1G9vFFHA",
        "outputId": "1be79ac5-b7ab-4fb1-85e1-100e20768a31"
      },
      "outputs": [
        {
          "output_type": "stream",
          "name": "stdout",
          "text": [
            "﻿한반도에서 두 번 다시 전쟁은 없을 것이다라고 제가 자신 있게 말씀을 드립니다. 우리가 한반도 육이오 전쟁으로 인한 그 폐허에서 온 국민이 합심해서 이만큼 나라 다시 일으켜 세웠는데 두 번 다시 전쟁으로 그 모든 것을 다시 잃을 수는 없는 노릇입니다. 전쟁은 기필코 막을 것입니다. 그리고 북한의 도발에 대해서 강도 높은 제재와 압박을 가하더라도 결국은 평화적으로 해결해야 한다라는 것은 국제적인 합의입니다. 미국과 트럼프 대통령의 입장도 다르지 않습니다. 지난번 유엔 안보리에서 북한의 수출의 1/3을 차단하는 유례없는 강력한 경제제재를 결의했습니다. 그 제재에는 15:0 안보리 전원의 만장일치로 통과됐고, 중국과 러시아도 동의했습니다. 그리고 중국과 러시아도 그 제재에 동참하고 있습니다. 그것은 달리 말하면 전쟁을 막기 위한 것입니다. 강도 높은 제재를 통해서 북한을 대화의 테이블로 나오도록 강제하기 위한 것입니다. 뿐만 아니라 한반도에서의 군사행동은 우리 대한민국만이 결정할 수 있습니다. 대한민국의 동의 없이 누구도 한반도에서 군사행동을 결정할 수 없습니다. 미국과 트럼프 대통령도 북한에 대해서 어떤 옵션을 사용하든 그 모든 옵션에 대해서 사전에 한국과 충분히 협의하고 동의를 받겠다, 그렇게 약속한 바 있습니다. 그것은 한·미간 굳은 합의입니다. 그래서 “전쟁은 없다”라는 말들을 우리 국민들께서는 안심하고 믿으시기 바랍니다. 뿐만 아니라 오히려 이 전쟁의 위기를 부추기고 국민들 불안하게 하는 것은 사실이 아닐뿐더러 국민들에 대한 도리도 아니고, 또 우리 경제를 더 어렵게 만드는 길이다라는 말씀도 함께 드립니다.\n",
            "북한이 대륙간탄도미사일(ICBM) 탄도미사일을 완성하고, 거기에 핵탄두를 탑재해서 무기화하게 되는 것을 레드라인이라고 생각합니다. 지금 북한이 점점 그 레드라인의 임계치에 다가가고 있다고 생각합니다. 그래서 지금 이 단계에서 북한의 추가적인 도발을 막아야 하는, 그 점에 대해서 국제사회가 함께 인식하고 있기 때문에 지난번 유엔안보리에서 사상 유례없는 강도 높은 경제적 제재조치에 대해서 만장일치로 합의한 것입니다. 만약에 북한이 또다시 도발을 한다면 북한은 더더욱 강도 높은 제재조치에 직면하게 될 것이고, 북한은 결국 견뎌내지 못할 것입니다. 북한에 대해서도 더는 위험한 도박을 하지 말 것을 경고하고 싶습니다. 이상입니다.\n",
            "남북 간에 대화가 재개되어야 합니다. 그러나 우리가 조급할 필요는 없다고 생각합니다. 지난 10년간의 단절을 극복해내고 다시 대화를 열어나가는 데에는 많은 노력과 또 시간이 필요할 수 있습니다. 우선 대화는 대화 자체를 목적으로 둘 수는 없습니다. 대화를 하기 위해서는 대화의 여건이 갖춰져야 하고, 또 그 대화가 좋은 결실을 보리라는 뭔가 담보가 있어야 할 것입니다. 적어도 북한이 추가적인 도발을 멈춰야만 대화의 분위기가 조성될 수 있다고 생각합니다. 그렇게 대화의 여건이 갖춰진다면 그리고 갖춰진 대화 여건 속에서 남북관계를 개선해 나가는 데 또 북핵 문제를 해결하는 데 도움이 된다고 판단된다면, 그때는 북한에 특사를 보내는 것도 충분히 고려할 수 있다고 봅니다.\n",
            "미국과 한국의 입장이 근본적으로 다르지 않습니다. 북한에 대한 강도 높은 제재와 압박을 통해서 북한의 추가적인 도발을 멈추게 하고, 북한을 핵 포기를 위한 협상의 장으로 이끌어내야 한다는 점에 대해서는 한국과 미국의 입장이 같습니다. 그리고 그 강도 높은 제재와 압박을 위해서 미국은 유엔안보리 결의를 통해서도 제재를 강구하고 있고, 또 한편으로는 독자적인 제재까지 더 하고 있습니다. 그에 대해서 미국의 트럼프 대통령은 단호한 결의를 보임으로써 북한을 압박하고자 하는 것입니다. 그것이 반드시 군사적인 행동을 실행할 의지를 가지고 하는 것이라고 보지 않습니다. 그 점에 대해서는 한·미간에 충분한 소통이 되고 있고, 또 합의가 이루어지고 있다는 말씀을 드리겠습니다.\n",
            "우선 지금 현 정부의 인사에 대해서 역대 정권을 다 통틀어서 가장 균형인사, 또 탕평인사, 그리고 통합적인 인사다라고 긍정적인 평가들을 국민들은 내려주고 계신다고 생각합니다. 사실 정부의 입장에서는 또 대통령의 입장에서는 대통령과 국정철학을 함께 하는 그런 분들로 정부를 구성하고자 하는 것이 너무나 당연한 일이라고 생각합니다. 그러나 저는 지금 이 시대의 과제가 보수·진보를 뛰어넘는 국민통합, 또 네 편 내 편 이렇게 편 가르는 정치를 종식하는 통합의 정치, 이것이 대단히 중요하다고 생각하기 때문에 제가 참여정부 때 함께 해 왔던 그리고 또 2012년 대선 때부터 함께 해왔던 많은 동지들이 있지만 그분들을 발탁하는 것은 소수에 그치고, 폭넓게 과거정부에서 중용되었던 사람이라 할지라도 능력이 있다면 과거를 묻지 않고, 그리고 또 경선과정에서 다른 캠프에 몸담았던 분들도 다 함께 하는 그런 정부를 구성했습니다. 앞으로 끝날 때까지 그런 자세로 나아가겠습니다. 지역탕평, 국민통합, 이런 인사의 기조를 끝까지 지켜나갈 것을 약속드리겠습니다. 감사합니다.\n",
            "우선 언론의 공공성을 확보하고, 또 언론의 자유를 보장하는 것은 기본적으로는 언론이 자율적으로 해야 하는 일이라고 생각합니다. 그러나 공영방송은 기본적으로 지난 정부 동안 공영방송을 정권의 목적으로 장악하려는 그런 노력들이 있었고, 그게 실제로 현실이 되었습니다. 저는 공영방송을 정권의 목적으로 장악하려 했던 정권도 나쁘지만, 그렇게 장악당한 언론에도 많은 책임이 있다고 생각합니다. 어쨌든 언론의 공공성 확보와 언론의 자유를 보장받기 위한 노력들은 언론이 스스로 해야 할 일이지만, 적어도 문재인 정부는 언론을 정권의 목적으로 장악하려는 시도는 하지 않겠다라는 것을 확실히 약속드리겠습니다. 그러기 위해서 아예 지배구조 개선을 제도적으로 보장해서 정권이 언론을 장악하지 못하도록 확실한 방안을 입법을 통해서 강구를 하겠습니다. 지금 이미 국회에 그런 법안들이 계류되고 있는데, 그 법안의 통과를 위해서 정부도 함께 힘을 모을 것입니다.\n",
            "제가 생각하는 적폐청산은 우리 사회를 아주 불공정하게, 불평등하게 만들었던 많은 반칙과 특권들을 일소하고 우리 사회를 보다 공정하고 정의로운 사회로 만드는 것입니다. 특정사건에 대한 조사와 처벌, 또 특정세력에 대한 조사와 처벌, 이런 것이 적폐청산의 목표라고 생각하지 않습니다. 이렇게 우리 사회를 보다 공정하고 정의로운 사회로 만들기 위한 노력은 1∼2년으로 끝나는 것이 아니고 우리 정부 임기 내내 계속되어야 할 노력입니다. 그리고 아마도 이번 정부 5년으로 다 이루어질 수 있는 과제도 아닐 것입니다. 앞으로 여러 정권을 통해서 이 노력이 계속되어서 그것이 하나의 제도화 되고 또 관행화되고 문화로까지도 그렇게 발전되어 나가야 한다고 생각을 합니다.\n",
            "내년 지방선거시기에 개헌하겠다는 그 약속에 변함이 없습니다. 개헌 추진은 두 가지 기회가 있다고 생각합니다. 하나는 지금 하고 있는 국회 개헌특위에서 국민들의 여론을 충분히 수렴해서 국민주권적인 개헌방안을 마련하는 것입니다. 그러면 정부도, 대통령도 그것을 받아들여서 내년 지방선거시기에 개헌안을 국민투표에 부칠 수 있다고 생각합니다. 만약 국회의 개헌특위에서 충분히 국민주권적인 개헌방안이 마련되지 않거나 제대로 합의에 이르지 못한다면 그때는 정부가 그때까지의 국회의 개헌특위의 논의사항들을 이어받아서 국회와 협의하면서 자체적으로 개헌특위를 만들어서 개헌방안을 마련할 수도 있다고 생각합니다. 그래서 국회의 개헌특위를 통해서든 또 대통령이 별도의 정부 산하 개헌특위를 통해서 하든 어쨌든 내년 지방선거시기에 개헌을 하겠다는 것은 틀림없다는 약속을 드립니다. 최소한도 지방분권을 위한 개헌, 그리고 국민기본권 확대를 위한 개헌에는 우리가 합의하지 못할 아무런 이유가 없다고 생각합니다. 중앙권력구조를 개편하기 위한 개헌에는 더 많은 논의가 필요할지 모르지만 적어도 말씀드린 지방분권 개헌, 국민기본권 강화를 위한 개헌 부분은 이미 충분한 공감대가 마련되어 있다고 생각합니다. 적어도 내년 지방선거시기에 그때까지 합의되는 과제만큼은 반드시 개헌을 할 것입니다. 그리고 그 과제 속에서 아까 지방분권의 강화, 또 그 속에서 가장 핵심이라고 할 수 있는 재정분권의 강화도 함께 이루어질 수 있을 것이라고 생각하고. 정부는 지방분권 개헌을 이루기 전에도 현행법 체계 속에서 할 수 있는 지방자치분권의 강화 조치들은 또 정부 스스로 그렇게 노력을 해 나가겠다는 말씀을 드립니다.\n",
            "정부는 이미 아주 초대기업에 대한 법인세 명목세율 인상, 그리고 초고소득자에 대한 과세강화 방침을 이미 밝혔습니다. 앞으로도 우리 사회의 조세의 공평성이나 또는 우리 사회의 불평등을 해소하기 위한 소득재분배 기능을 위해서라든지 또는 앞으로 더 복지를 확대하기 위해서 필요한 재원을 마련하기 위한 그런 방안이든 추가적인 증세의 필요성에 대해서 국민들의 공론이 모아진다면, 그리고 합의가 이루어진다면 정부도 그것을 검토할 수 있다고 봅니다. 그러나 현재 지금 정부가 발표한 여러 가지 복지정책들에 대해서는 지금까지 정부가 발표한 증세 방안만으로 충분히 재원 감당이 가능하다고 봅니다. 실제로 그 재원이 필요한 만큼 정부가 증세 방침을 밝힌 것입니다. 증세를 통한 세수 확대만이 유일한 재원대책이 아닙니다. 오히려 더 중요한 것은 기존의 재정지출에 대해서 대대적으로 구조조정을 해서 세출을 절감하는 것이 또 못지않게 중요하고요. 또 증세를 통한 세수 확대뿐만 아니라 또 자연적인 세수 확대, 여러 가지 기존의 세법 아래에서도 과세를 강화하는 방식으로 또 많은 세수 확대들이 있을 수 있기 때문에, 지금 현재 정부가 밝히고 있는 증세 방안들은 정부에게 필요한 재원조달에 딱 맞추어서 맞춤형으로 결정된 것이라는 말씀을 드리겠습니다. 정부의 여러 가지 정책에 대해서 재원대책 없이 계속해서 무슨 산타클로스 같은 정책만 내놓은 것이 아니냐, 이런 걱정들을 하는데, 하나하나 꼼꼼하게 재원대책을 검토해서 가능한 범위 내에서 전부 설계된 것이라는 말씀을 드리고. 곧 내년도 예산안이 발표될 텐데 그 예산안을 보시면 얼마의 재정지출이 늘어나고 그 늘어나는 재정지출에 대해서 어떻게 우리 정부가 재원을 마련할 방침인지 하는 것을 전부 직접 확인할 수 있을 것이라고 그렇게 생각합니다.\n",
            "실수요자들이 주거를 가질 수 있도록 그렇게 하기 위해서도, 또 지난 정부 동안 우리 서민들을 괴롭혔던 미친 전세, 또는 미친 월세, 이런 높은 주택임대료의 부담에서 서민들이, 우리 젊은 사람들이 해방되기 위해서도 부동산 가격의 안정은 반드시 필요하다고 봅니다. 저는 이번에 정부가 발표한 부동산 대책이 역대, 가지 않았던 가장 강력한 대책이기 때문에 그것으로 부동산 가격을 충분히 잡을 수 있을 것이라고 확신합니다. 그리고 만약에 부동산 가격이 그럼에도 불구하고 또 시간이 지난 뒤에 또다시 오를 기미가 보인다면, 정부는 더 강력한 대책도 주머니 속에 많이 넣어두고 있다는 말씀도 드립니다. 보유세는 아까 말씀드린 대로 공평과세라든지 소득재분배라든지 또는 더 추가적인 복지재원의 확보를 위해서 필요하다는 사회적 합의가 이루어진다면 정부도 검토할 수 있을 것입니다. 그러나 지금 단계에서 부동산 가격 안정화 대책으로 검토하고 있지는 않습니다. 부동산 가격은 기왕에 발표된 대책으로 저는 충분히 잡을 수 있을 것이라고 확신하고, 그에 대해서 추가되어야 하는 것은 서민들에게, 또는 신혼부부에게, 그리고 젊은이들에게 이런 실수요자들이 저렴한 임대료로 주택을 구할 수 있고 또는 주택을 매입할 수 있는 그런 주거복지 정책을 충분히 펼치는 것이라고 생각합니다. 그래서 신혼부부용 공공임대주택에 대한 준비, 젊은 층들을 위한 공공임대주택 준비에 대해서 지금 많은 정책이 준비되고 있고 곧 아마 그런 정책들이 발표되고 시행될 것이다라는 말씀을 드리겠습니다.\n",
            "우선 말씀하신 것 가운데 일본군 위안부 부분은 한일회담 당시 말하자면 알지 못했던 문제였습니다. 말하자면 그 회담에서 다루어지지 않았던 문제입니다. 위안부 문제가 알려지고 사회문제가 된 것은 한일회담 훨씬 이후의 일이었습니다. 그래서 위안부 문제가 한일회담으로 다 해결되었다라는 것은 그것은 맞지 않는 일이라고 봅니다. 강제징용자의 문제도 양국 간의 합의가 개개인들의 권리를 침해할 수는 없는 것입니다. 양국 간의 합의에도 불구하고 징용당한 강제징용자 개인이 미쓰비시 등을 비롯한 상대 회사를 상대로 가지는 민사적인 권리들은 그대로 남아 있다라는 것이 한국의 헌법재판소나 한국 대법원의 판례입니다. 정부는 그런 입장에서 과거사 문제를 임하고 있습니다. 다만, 제가 강조하고 있는 것은 그런 과거사 문제가 한·일관계의 미래지향적인 발전에 걸림돌이 돼서는 안 되겠다, 그래서 과거사 문제는 과거사 문제대로, 또 미래지향적인 발전을 위한 한-일간의 협력은 그 협력대로 별개로 해 나가는 것이 필요하다, 이렇게 생각합니다. 지난번 위안부 합의에 대해서는 제가 여러 번 제 생각을 밝힌 바 있습니다. 지금 외교부에서 자체적으로 태스크포스(TF)를 구성해서 그 합의의 경위라든지 그 합의에 대한 평가, 이런 작업을 하고 있습니다. 그 작업이 끝나는 대로 외교부가 그에 대한 방침을 정할 것입니다.\n",
            "지금 우리 정부는 인수위 과정 없이 취임 100일을 맞이하고 있는데, 너무 급하게 재촉을 하시는 것 같습니다. 일단 국정기획위원회는 국정과제 100대 과제를 선정했을 뿐이고, 말씀하신 대로 지역공약에 대해서는 지금부터 T/F를 구성해서 하나하나 다듬어가야 할 그런 상황입니다. 특히 강원도는 평창동계올림픽을 성공시켜야 한다는 것과 맞물려 있기 때문에 다른 지역보다 더 우선적인 관심을 기울이고 있습니다. 너무 걱정하지 않으셔도 잘 될 것이라고 말씀드립니다.\n",
            "북한 핵과 미사일 문제는 기본적으로 가장 중심적인 당사자, 또 가장 큰 이해관계자는 바로 우리 대한민국입니다. 그러나 북·미간의 문제이기도 하죠. 그래서 북한이 계속해서 도발적인 행위를 할 경우, 또 더 나아가서 북한이 미국에 대해서 공격적인 행위를 할 경우, 그에 대해서 미국이 적절한 조치를 할 수는 있을 것이라고 생각합니다. 그러나 한반도 바깥이라면 모르되, 적어도 한반도에서의 군사행동만큼은 우리 한국이 결정해야 하고, 또 한국의 동의가 필요하다라는 말씀을 드리는 것입니다. 저는 설령 미국이 한반도 바깥에서 뭔가 군사적인 행동을 취한다 하더라도 그것이 남북관계에 긴장을 높여주고 그럴 우려가 있을 때는 아마 사전에 한국과도 충분히 협의할 것이라고 그렇게 확신합니다. 그것이 한미동맹의 정신이라고 믿습니다.\n",
            "미국의 FTA 개정 협상요구에 대해서는 우리도 그 점을 미리 예상하고 있었기 때문에 이번 정부조직법 개편에서 통상교섭본부로 격상하고, 또 통상교섭본부장을 우리 대내적으로는 차관급, 대외적으로는 장관급으로 격상하는 조치까지 미리 취해두었습니다. 미국에 대해서 당당하게 협상할 것이라는 말씀을 드립니다. 참고로 말씀드리자면 미국의 상무부 쪽의 조사결과에 의하더라도 한-미 FTA는 한-미 양국에게 모두 호혜적인 결과를 낳았다는 사실을 알 수 있습니다. 한-미 FTA 체결 이후의 세계의 교역량이 12%가 줄어들었는데, 2011년부터 2016년 사이에 그 5년간 한-미간의 교역량은 오히려 12% 늘어났습니다. 한국의 수입시장에서 미국이 차지하는 비중이 늘어났고, 미국의 수입시장에서 한국이 차지하는 비중도 늘어났습니다. 그뿐만 아니라 미국 무역위원회가 발표한 연구결과에 의하면 한-미 FTA가 없었더라면 미국의 무역수지적자가 더 크게 늘어났을 것이다, 한-미 FTA에 의해서 미국의 무역적자가 많이 줄어드는 효과가 생겼다, 그렇게 미국 스스로도 그런 연구 자료들을 내놓고 있습니다. 또 우리가 상품교역에서는 많은 흑자를 보고 있지만, 거꾸로 서비스교역에서는 우리가 또 많은 적자를 보고 있고, 대미 투자액도 우리가 훨씬 많습니다. 이런 점들을 충분히 제시하면서 미국과 국익의 균형을 지켜내는 당당한 협상을 할 수 있을 것이라 생각하고, 또 기본적으로 그 협상에는 많은 시간이 걸립니다. 그리고 또 그 협상결과에 대해서 국회의 비준동의도 거치게 되어 있습니다. 그래서 미국의 FTA 개정 협상요구에 대해서 당장 무언가 큰일이 나는 듯이 그렇게 반응하는 것은 별로 바람직하지 않은 일이라고 말씀드립니다.\n",
            "우리가 새 정부의 중요한 국정목표 중 하나가 노동의 가치가 제대로 존중받는 세상을 만들겠다는 것입니다. 노동의 가치가 제대로 존중되려면 정부가 노동자들의 권익을 보호하는 그런 정책들을 더 전향적으로 펼쳐야 하겠지만 또 한편으로는 노동자들이 스스로 단합된 힘으로 자신들의 권익을 키워나가는 것도 필요한 일입니다. 그런 면에서 노동자 조직률을 높여나가는 것은 중요하고요. 노동조합 조직률을 높여나가겠다고 하는 것이 저의 지난 대선공약이기도 했습니다. 정부도 노동조합 조직률을 높이기 위해서 정책적인 노력을 기울이겠습니다. 그러나 한편으로 노동조합도 좀 더 대중적인 지지를 받을 수 있는 그런 식의 노력을 함께 할 필요가 있다고 생각합니다. 노동조합의 결성을 가로막는 여러 가지 사용자 측의 부당노동 행위에 대해서는 강력한 의지로 단속하고 처벌할 것이라는 것을 미리 예고를 해 드립니다.\n",
            "우선 탈원전도 걱정하시는 분들이 있어서 조금 말씀을 드리자면, 제가 추진하는 탈원전 정책은 급격하지 않습니다. 지금 유럽 등선진국들의 탈원전 정책은 굉장히 빠릅니다. 수년 내에 원전을 멈추겠다는 식의 계획들인데 저는 지금 가동되고 있는 원전의 설계 수명이 만료되는 대로 하나씩 원전의 문을 닫아나가겠다는 것입니다. 그렇게 되면 근래에 가동이 된 원전이나 또 지금 건설 중인 원전은 설계 수명이 60년입니다. 적어도 탈원전에 이르는 데는 60년 이상의 시간이 걸리는 것입니다. 그 시간 동안 원전이 서서히 하나씩 줄어나가고 또 그에 대해서 LNG라든지 신재생에너지를 비롯한 대체에너지를 마련해 나가는 것은 조금도 어려운 일이 아닙니다. 그것이 전기요금에 아주 대폭적인 상승을 불러일으키는 그런 일도 아닙니다. 이렇게 탈원전 계획을 해 나가더라도 지금 현재 이 정부, 우리 정부 기간 동안에 3기의 원전이 추가로 늘어나게 됩니다. 추가로 가동되게 됩니다. 그리고 그에 반해서 줄어드는 원전은 지난번에 가동을 멈춘 고리1호기와 앞으로 가동 중단이 가능한 월성1호기 정도입니다. 2030년에 가더라도 원전이 차지하는 우리 전력비중이 20%가 넘습니다. 그것만 해도 우리는 세계적으로 원전의 비중이 가장 높은 나라 중 하나입니다. 그래서 탈원전 정책에 대해서는 전혀 염려할 필요가 없을 정도로 아주 점진적으로 그렇게 이루어지는 정책이라는 말씀을 드리고.\n",
            "신고리 5, 6호기의 경우에는 당초 저의 공약은 건설을 백지화하는 것이었습니다. 그러나 작년 6월 건설 승인이 이뤄지고 난 이후에 꽤 공정률이 이루어져서 거기에 적지 않은 비용이 소요가 많이 되었습니다. 그리고 또 중단될 경우에는 추가적인 매몰비용도 또 필요하다고 합니다. 그러면 이런 상황에서 당초 제 공약대로 백지화를 밀어붙이지 않고 백지화하는 것이 옳을 것이냐 안 그러면 이미 그만큼 비용이 지출됐기 때문에 신고리 5, 6호기 공사를 계속해야 될 것인가 이 부분을 공론조사를 통해서 결정을 하겠다는 것입니다. 말하자면 공론조사를 통한 사회적 합의 결과에 따르겠다는 것인데, 저는 아주 적절한 과정이라고 생각합니다. 그리고 이 공론조사 과정을 통해서 우리가 합리적인 결정을 얻어낼 수 있다면 앞으로 유사한 많은 갈등 사안에 대해서도 갈등을 해결해 나가는 하나의 중요한 모델로 그렇게 삼아나갈 수 있지 않을까 생각합니다.\n"
          ]
        }
      ],
      "source": [
        "# President Moon's answer\n",
        "open_path=\"/content/drive/MyDrive/말뭉치데이터/moon100days_answer.txt\"\n",
        "moon=open(open_path,'r',encoding='utf-8') \n",
        "print(moon.read())"
      ]
    },
    {
      "cell_type": "code",
      "execution_count": 4,
      "metadata": {
        "colab": {
          "base_uri": "https://localhost:8080/"
        },
        "outputId": "103ed9fa-019d-4bd0-f8cc-aa1a1752d46f",
        "id": "9N1eAHp-jUXj"
      },
      "outputs": [
        {
          "output_type": "stream",
          "name": "stdout",
          "text": [
            "﻿세 가지로 말씀드리기는 어려울 것 같고요. 지지율 자체보다도 그런 여론조사에서 나타난 민심을 겸허하게 받드는 것이 중요하다고 생각하고 여러 가지 지적된 문제들에 대해서 국민의 관점에서 세밀하게, 꼼꼼하게 한번 따져보겠습니다.\n",
            "\n",
            "그리고 제가 취임 후에 한 100여 일을 일단 당면한 현안들에 매진을 하면서 되돌아볼 시간은 없었습니다마는 이번 휴가를 계기로 해서 지금부터 다시 다 되짚어보면서 어떤 조직과 정책과 이런 과제들이 작동되고 구현되는 과정에 어떠한 문제가 있는지, 소통에 어떤 문제가 있었는지를 면밀하게 짚어나갈 생각입니다.\n",
            "조금 전에 최고은 기자님 말씀하신 것에 대한 답변으로 어느 정도 제 입장을 말씀을 드린 것이라고 저는 생각을 하고 지금부터 다시 다 되돌아보면서 철저하게 다시 챙기고 검증하겠습니다. 그리고 그 인사 쇄신이라고 하는 것은 국민을 위해서, 국민의 민생을 꼼꼼하게 받들기 위해서 아주 치밀하게 점검을 해야 되는 것이지 어떤 정치적인 국면 전환이라든가 지지율 반등이라고 하는 그런 정치적 목적을 가지고 해서는 저는 안 된다고 생각하고 좀 시간이 필요할 것 같습니다. 제가 지금부터 벌써 시작을 했습니다마는 그동안 우리 대통령실부터 어디에 문제가 있었는지 지금 짚어보고 있습니다.\n",
            "저는 선거 과정에서부터 북한과의 대화는 필요하다고 말씀을 드렸고, 다만 남북 정상 간의 대화나 또 주요 실무자들의 대화와 협상이 정치적인 쇼가 돼서는 안 되고 어떤 실질적인 한반도 동북아의 평화 정착에 유익해야 된다는 그런 말씀을 드렸습니다. 그리고 제가 광복절에 발표한 그런 비핵화 로드맵에 따라 우리가 단계적으로 지원할 수 있다고 하는 것은 먼저 다 비핵화를 시켜라. 그러면 우리가 그다음에 한다 이런 뜻이 아니고 그런 확고한 의지만 보여주면 거기에 따라 우리가 할 수 있는 일들을 다 도와주겠다는 얘기이기 때문에 종전과는 다른 얘기고 이렇게 의제를 먼저 우리가 줘야 저쪽의 답변을 기다릴 수 있고 앞으로도 의미 있는 우리 한반도 평화 정착에 필요한 그런 의미 있는 회담 내지 대화가 가능할 것으로 생각합니다.\n",
            "\n",
            "그리고 체제 안전 보장이라고 하는 것은 우리 대한민국 정부가 해 줄 수 있는 것은 아닙니다. 다만 저나 우리 정부는 북한 지역의 무리한 또는 힘에 의한 그런 현상 변경은 전혀 원하지 않습니다. 제일 중요한 것은 남북한 간에 지속 가능한 평화의 정착이고 우리가 북한에 대해서 여러 가지 경제적, 외교적 지원을 한 결과 북한이 그에 따라서 자연스럽게 변화한다면 그 변화를 환영하는 것뿐입니다.\n",
            "저는 NPT 체제가 항구적인 세계 평화에 매우 중요하고 필수적인 전제라고 생각하고 있습니다. 그래서 어떠한 상황이 되더라도 확장억제를 더욱 실효화하고 강화해 나가는 것을 우선적인 과제로 생각할 계획이고 확장 억제는 또 다양한 모델들이 나올 수 있기 때문에 북핵의 위협이 고도화되고 기존에 있는 정도의 확장 억제로 되지 않는다고 한다면 이 확장 억제가 아마 그 형태가 조금 변화될 수는 있겠습니다마는 NPT 체제에 대해서는 끝까지 포기하지 않고 지켜낼 생각입니다.\n",
            "대통령으로서 민생 안정과 국민의 안전에 매진을 하다 보니 다른 정치인들께서 어떠한 정치적 발언을 하셨는지 제가 제대로 챙길 기회도 없고 또 저는 작년 선거운동 과정에서부터 지금까지 다른 정치인들의 정치적 발언에 대해서 어떠한 논평이나 제 입장을 표시해본 적이 없다는 점을 생각해 주시기를 바라겠습니다.\n",
            "투표권을 가진 회원국들이 굉장히 많습니다. 그래서 한 국가 한 국가 1:1로 설득을 해서 지지를 끌어내는 것 이외에는 달리 방법이 없고요. 저희가 또 늦게 시작했고 또 유치 과정에서 아마 저희가 감당할 수 있는 비용이 아마 사우디가 훨씬 우리보다 유리한 입장에 있는 것은 분명합니다.\n",
            "\n",
            "그러나 엑스포라고 하는 것은 모든 회원 국가가 자국의 상품을 전 세계에 가장 효과적으로 광고하고 보여주기 위한 것이기 때문에 그런 것을 해낼 수 있는 역량과 인프라에 있어서는 우리는 사우디보다 훨씬 우수한 경쟁력을 갖고 있다고 저는 확신합니다.\n",
            "\n",
            "그래서 엑스포 관계자들도 한국이 늦게 시작했지만 아직 시간이 1년 이상 남아있기 때문에 최선을 다해서 뛰면 반전이 가능할 것이라고 저희에게도 조언을 주고 있고 저희도 지금 차곡차곡 지지 국가를 하나씩 하나씩 이끌어내고 있는 상황입니다.\n",
            "\n",
            "무엇보다 저희는 과거에 이런 엑스포를 2030과 같은 등록 엑스포는 아니지만 그리고 올림픽도 했고 이런 국제행사를 치러본 경험이 탁월하게 많기 때문에 저는 제가 나토에 가서도 양자회담을 하면서 지지를 호소할 때 여러 귀국의 상품을 전 세계에 보여주는 데 있어서 대한민국만큼 확실하게 광고를 해 줄 수 있는 그런 인프라를 갖춘 경쟁국은 없다. 그런 점을 강조를 해 왔고 그런 차원에서 열심히 하면 저는 가능하다고 생각합니다.\n",
            "\n",
            "그리고 이것이 주는 경제적 효과가 워낙 크기 때문에 저희가 결코 포기할 수 없는 것이고 최선을 다해야 한다고 생각합니다.\n",
            "과거사 중에서도 강제징용 문제 해결 방안에 대해서 질문을 하신 것으로 이해가 됩니다.\n",
            "\n",
            " 강제징용은 이미 우리나라에서는 대법원에서 확정 판결이 나왔고 그 판결 채권자들이 법에 따른 보상을 받게 되어 있습니다.\n",
            "\n",
            "다만 그 판결을 집행해 나가는 과정에서 일본이 우려하는 그런 주권 문제 충돌 없이 채권자들이 보상을 받을 수 있는 그런 방안을 지금 깊이 강구하고 있는 중입니다. 저는 긍정적으로 보고 있고 그리고 과거사 문제라는 것도 양국이 미래지향적인 협력 관계를 강화할 때 그 양보와 이해를 통해서 과거사 문제가 더 원만하게 빠르게 해결될 수 있다는 그런 믿음을 가지고 있습니다.\n",
            "\n",
            "미래가 없는 사람들끼리 앉아서 어떻게 과거에 대한 정산을 할 수 있겠습니까. 그래서 저는 한일 간의 관계는 특히 지금 이런 동북아 세계 안보 상황에 비추어 보더라도, 그리고 이런 공급망과 경제 안보 차원에서 보더라도 한미 간에는 이제 미래를 위해서 긴밀히 협력해야 되는 관계가 됐기 때문에 양국이 과거사 문제에 대해서 합리적인 방안을 도출할 수 있을 것으로, 정부와 국민들이 해낼 수 있다고 저는 생각합니다.\n",
            "일단 결론부터 말씀드리면 계속하겠습니다. 여러분들께서 하지 말라고 하면 할 수 없겠지만 저는 자유 민주주의라고 하는 것은 예를 들어서 대통령 중심제 국가다 하면 대통령직 수행 과정이 국민들에게 투명하게 드러나고 또 국민들로부터 날선 비판, 다양한 지적을 받아야 된다고 저는 생각합니다.\n",
            "\n",
            "그래서 제가 용산으로 왔고 그리고 과거와는 달리 춘추관으로 별도의 건물에 있었지만 저와 우리 참모들이 함께 근무하는 이곳 1층에 여러분들의 기자실이 들어올 수 있도록 조치를 한 것입니다.\n",
            "\n",
            "제가 휴가 중에 저를 좀 걱정하시는 분들이 도어스테핑 때문에 지지가 떨어진다고 당장 그만두라는 분들이 많이 계셨습니다마는 그건 제가 용산으로 대통령실을 옮긴 가장 중요한 이유이고 그리고 새로운 소통하는, 국민들께 만들어진 모습이 아니라 제 있는 그대로의 모습을 보여드리고 비판을 받는 그런 새로운 대통령 문화를 만들어내는 과정이기 때문에 미흡한 게 있어도 계속되는 과정에서 국민들께서 이해하시고 또 미흡한 점들이 개선돼 나갈 것이라고 생각됩니다.\n",
            "\n",
            "여러분들께서도 많이 도와주시기를 부탁드립니다.\n",
            "독일에서 노동개혁 하다가 사민당이 정권을 17년을 놓쳤다고 하죠. 그러나 독일 경제와 역사에 매우 의미 있는 개혁을 완수했습니다.\n",
            "\n",
            "교육개혁, 노동개혁, 연금개혁이라고 하는 이 3대 개혁은 중장기 국가개혁이고 플랜입니다.\n",
            "\n",
            "그래서 이건 정부가 어떤 방향을 가지고 일방적으로 밀어붙일 수 있는 것이 아니라 먼저 국민들의 여론을, 경우에 따라서는 모집단별로 세세하게 파악을 해서 실증 자료도 많이 생산해내고 거기에 터 잡아서 정부와 국회 그리고 많은 시민사회가 초당적으로 초정파적으로 해결할 문제라고 저는 생각합니다.\n",
            "\n",
            "그러나 제가 대통령 선거를 해 나가면서부터 국민들께 말씀드리고 제가 가지고 있는 기본적인 방향이나 생각은 산업 구조가 변했기 때문에 지금의 노동법 체계가 과거의 2차 산업혁명을 그런 인프라를 기반으로 하고 있는 법 체계라면 이제 4차 산업혁명의 그런 새로운 산업 구조하에서는 그 산업 구조에 적용될 노동법 체계도 바뀌어야 한다는 그런 점 하나가 있고요.\n",
            "\n",
            "그리고 노동의 공급이라는 것도 결국은 기업과 산업의 수요에 따라서 유연하게 대응을 해 주지 못한다면 경쟁력이 떨어지고 결국 우리나라 전체의 국부와 또 따라서 우리 노동자들에게 돌아가는 그런 소득이 저는 줄어들 거라고 생각합니다.\n",
            "\n",
            "그래서 노동이라는 것도 현실의 수요에 맞춰서 유연하게 공급이 될 수 있어야 된다라는 그런 측면이 하나가 있고요.\n",
            "\n",
            "또 하나는 우리 사회에서 늘 지적돼온 것처럼 같은 노동을 하는데 같은 기업 내에서 정규직과 파견 근로자라든가 대기업 또 소기업이라든가 사이에서의 이런 노동시장의 양극화와 분절, 이것은 어떤 노동에 대한 보상의 공정성이라는 측면에서 우리가 개선해야 될 문제임이 틀림이 없습니다.\n",
            "\n",
            "그리고 노동시장을 만약에 우리가 개혁을 한다고 하면 거기에 따라서 또 일시적으로 적응을 하지 못하고 불이익을 입는 분들을 위한 여러 가지 적극적 노동시장 정책이라든지 사회 안전망을 배려하는 것 역시도 노동개혁에 포함되어야 한다라고 보고 있습니다.\n",
            "산업 현장에서의 노동 운동이 법의 범위를 넘어서서 불법적으로 강경 투쟁화되는 것은 어떤 하나의 복안으로서 단번에 해결할 수 있는 문제가 아닙니다.\n",
            "\n",
            "어떤 일관된 원칙을 예측 가능하게 꾸준히 지켜가면서 문화가 정착돼가면서 해결될 수 있는 그런 일이라고 저는 생각을 합니다.\n",
            "\n",
            "그래서 정부가 법과 원칙이라고 하는 것을 노사를 불문하고 일관되게 유지한다는 그 원칙이 중요하고 또 그 시장에도 정부의 일관된 원칙을 시장에서 받아들일 수 있도록 계속 정부가 입장 표명을 하는 것이 저는 중요하다고 보고 있고요.\n",
            "\n",
            "우리가 지금 가지고 있는 노동법체계는 근본적인 노사 갈등과 문제를 해결하기 위한 방안으로 국민들이 합의해서 만들어 놓은 체제입니다.\n",
            "\n",
            "그렇기 때문에 법이 중요하지 않다, 법만 갖고는 해결되지 않는다라고 하는 것은 그렇게 해서는 문제 해결이 어렵고 우리가 이미 합의된 방식을 만들어놨기 때문에 그 방식을 철저히 지키기 위해서 노력하는 것이 저는 중요하다, 이렇게 생각을 하고요.\n",
            "\n",
            "그리고 법에 위반되는 일이 발생했다고 즉각적인 공권력 투입으로 상황을 진압하는 것보다도 일단 먼저 대화와 타협을 할 수 있는 시간을 좀 주고 그래도 이게 안 된다고 할 때는 그때는 더 이상 법에 따라서 일을 처리할 수밖에 없는 그런 문화가 저는 정착이 돼야 된다고 생각합니다. 잠깐만. 아까 산업 현장에서의 불법 행위에 대해서 법과 원칙만 가지고는 어렵지 않느냐는 질문이 있었는데 법과 원칙을 일관되게 적용한다는 그 정부의 입장이 중요하고요.\n",
            "\n",
            "그리고 또 아울러서 해야 될 것은 그런 분규가 발생한 원인에 대한 정확한 분석과 거기에 대한 대안 마련 역시도 정부가 함께해나가야 한다고 생각합니다.\n",
            "\n",
            "그래서 지난번에 하청지회 파업같이 그런 경우에는 저희들이 이분들의 과연 임금이나 노동에 대한 보상이 과연 정당한 것인지에 대해서, 그리고 노동시장 양극화 문제에 대해서 저희가 또 근본적으로 고민하고 거기에 대한 대안을 함께 만들어 나가는 것이 중요하다고 생각합니다.\n",
            "\n",
            "그걸 덧붙여 말씀을 드리겠습니다.\n",
            "우크라이나는 국제법 위반 행위에 의해서 침략을 당한 국가로 정의가 되고 있습니다.\n",
            "\n",
            "그것이 국제사회에 보편적으로 받아들여지는 판단입니다.\n",
            "\n",
            "그래서 우리 대한민국도 국제사회와 함께 우크라이나에 대한 다양한 지원과 또 우크라이나 국민들의 피해 회복을 위해서 인권의 복원을 위해서 최대한 노력하고 있습니다.\n",
            "\n",
            "다만 공격용 무기 내지는 군사적 지원을 어떤 방식으로 할 것인지에 대해서는 제가 오늘 이 자리에서 말씀드리기는 좀 어렵고 우크라이나 국민들이 빠른 시일 내에 그들의 자유를 회복하고 손괴된 국가 자산을 다시 복구할 수 있도록 최선을 다해서 도와줄 생각입니다.\n",
            "\n",
            "그리고 용산 대통령실에 우리 외신 기자분들의 접근 기회는 더 확대하도록 노력하겠습니다.\n",
            "저희가 그동안 주거 복지라는 관점에서 열악한 주거환경에 사시는 분들의 문제를 바라봤는데 이번 기록적인 집중호우 피해를 저희가 보면서 이분들에 대한 안전이 더 시급한 문제이구나 하는 것을 느꼈습니다.\n",
            "\n",
            "지금 공공임대주택에 대해서도 어느 정도 여유분이 있고 그리고 이분들이 지상의 주택으로 이전할 수 있는 전세자금 금융 지원 여력도 있습니다.\n",
            "\n",
            "그래서 이거를 빨리 시행을 해서 이분들이 먼저 향후에 이런 집중호우가 내리더라도 안전하게 계실 수 있도록 먼저 장치를 만들고요.\n",
            "\n",
            "그리고 이번에도 보니까 거기 창틀이라든가 문이라든가 이런 것을 좀 더 과학적으로 설계를 하면 조금 더 안전을 지킬 수가 있고 그리고 제가 지난번에 중대본에서 회의에서도 제기를 했습니다마는 우리 AI 디지털 기술을 총동원해서 빨리 신속하게 우리나라의 모든 지류, 하천 수계에 대한 모니터를 해서 경보 시스템과 연동을 시켜서 이런 집중호우 시에 위험에 빠진 주민들이 신속하게 안전 대피할 수 있도록 만드는 것이 일단 시급한 일이라고 저는 생각하고 있습니다.\n",
            "\n",
            "그리고 이런 방수 저류 시설들을 만드는 게 그 다음이고요. 그와 아울러서 이분들에 대한 주거 대책을 체계적으로 실시를 해서 필요한 공공주택을 더 건설하고 이렇게 조치를 해 나가도록 그렇게 할 생각입니다.\n",
            "\n"
          ]
        }
      ],
      "source": [
        "# President Yoon's answer\n",
        "open_path=\"/content/drive/MyDrive/말뭉치데이터/yoon100days_answer.txt\"\n",
        "yoon=open(open_path,'r',encoding='utf-8') \n",
        "print(yoon.read())"
      ]
    },
    {
      "cell_type": "markdown",
      "source": [
        "## 1.Parametric test assumptions(독립 t검정의 기본 가정)\n",
        "* The indepentent T-test is a parametric test used to test for a statistically significant difference in the means between 2 groups. As with all parametric tests, there are certain conditions that need to be met in order for the test results to be considered reliable.(독립 T-검정은 두 그룹 간의 평균에서 통계적으로 유의한 차이를 검정하는 데 사용되는 모수 검정이다. 모든 모수 검정과 마찬가지로 검정의 결과를 신뢰할 수 있는 것으로 인정받기 위해 충족해야 하는 특정 조건이 있다.)\n",
        "* (1) The two samples are independent (두 표본은 독립적이다)\n",
        "* (2) Population distributions are normal (모집단의 분포는 정규분포를 이룬다)\n",
        "* (3) Samples have equal variances (표본집단의 분산은 같다)"
      ],
      "metadata": {
        "id": "DpJu7aVMcs5q"
      }
    },
    {
      "cell_type": "markdown",
      "source": [
        "## 2.the hypothesis of this test (가설 설정)\n",
        "* $H_0$ : The amount of answers (average length of sentences) of the two presidents is the same.\n",
        "귀무가설:두 대통령의 답변의 양(문장의 평균 길이)은 같다.\n",
        "* $H_1$ : The amount of answers (average length of sentences) of the two presidents is not the same.\n",
        "대립가설:문대통령과 윤대통령의 답변의 양은 같지 않다."
      ],
      "metadata": {
        "id": "ieoQtZG4ntQV"
      }
    },
    {
      "cell_type": "code",
      "source": [
        "import pandas as pd\n",
        "df=pd.read_excel(\"/content/drive/MyDrive/말뭉치데이터/Moon_Yoon100days_answer.xlsx\", sheet_name='token_len')\n",
        "df"
      ],
      "metadata": {
        "colab": {
          "base_uri": "https://localhost:8080/",
          "height": 519
        },
        "id": "pa56KjLXl75x",
        "outputId": "47300d20-878f-422b-f389-e5fec25cff07"
      },
      "execution_count": null,
      "outputs": [
        {
          "output_type": "execute_result",
          "data": {
            "text/plain": [
              "    Moon   Yoon\n",
              "0    389  146.0\n",
              "1    170  155.0\n",
              "2    196  306.0\n",
              "3    194  129.0\n",
              "4    268   84.0\n",
              "5    229  366.0\n",
              "6    180  267.0\n",
              "7    388  276.0\n",
              "8    421  472.0\n",
              "9    356  492.0\n",
              "10   339  166.0\n",
              "11   127  301.0\n",
              "12   624    NaN\n",
              "13   219    NaN\n",
              "14   578    NaN"
            ],
            "text/html": [
              "\n",
              "  <div id=\"df-227a8f8f-9c0c-49ae-ac1e-30f4aa01975e\">\n",
              "    <div class=\"colab-df-container\">\n",
              "      <div>\n",
              "<style scoped>\n",
              "    .dataframe tbody tr th:only-of-type {\n",
              "        vertical-align: middle;\n",
              "    }\n",
              "\n",
              "    .dataframe tbody tr th {\n",
              "        vertical-align: top;\n",
              "    }\n",
              "\n",
              "    .dataframe thead th {\n",
              "        text-align: right;\n",
              "    }\n",
              "</style>\n",
              "<table border=\"1\" class=\"dataframe\">\n",
              "  <thead>\n",
              "    <tr style=\"text-align: right;\">\n",
              "      <th></th>\n",
              "      <th>Moon</th>\n",
              "      <th>Yoon</th>\n",
              "    </tr>\n",
              "  </thead>\n",
              "  <tbody>\n",
              "    <tr>\n",
              "      <th>0</th>\n",
              "      <td>389</td>\n",
              "      <td>146.0</td>\n",
              "    </tr>\n",
              "    <tr>\n",
              "      <th>1</th>\n",
              "      <td>170</td>\n",
              "      <td>155.0</td>\n",
              "    </tr>\n",
              "    <tr>\n",
              "      <th>2</th>\n",
              "      <td>196</td>\n",
              "      <td>306.0</td>\n",
              "    </tr>\n",
              "    <tr>\n",
              "      <th>3</th>\n",
              "      <td>194</td>\n",
              "      <td>129.0</td>\n",
              "    </tr>\n",
              "    <tr>\n",
              "      <th>4</th>\n",
              "      <td>268</td>\n",
              "      <td>84.0</td>\n",
              "    </tr>\n",
              "    <tr>\n",
              "      <th>5</th>\n",
              "      <td>229</td>\n",
              "      <td>366.0</td>\n",
              "    </tr>\n",
              "    <tr>\n",
              "      <th>6</th>\n",
              "      <td>180</td>\n",
              "      <td>267.0</td>\n",
              "    </tr>\n",
              "    <tr>\n",
              "      <th>7</th>\n",
              "      <td>388</td>\n",
              "      <td>276.0</td>\n",
              "    </tr>\n",
              "    <tr>\n",
              "      <th>8</th>\n",
              "      <td>421</td>\n",
              "      <td>472.0</td>\n",
              "    </tr>\n",
              "    <tr>\n",
              "      <th>9</th>\n",
              "      <td>356</td>\n",
              "      <td>492.0</td>\n",
              "    </tr>\n",
              "    <tr>\n",
              "      <th>10</th>\n",
              "      <td>339</td>\n",
              "      <td>166.0</td>\n",
              "    </tr>\n",
              "    <tr>\n",
              "      <th>11</th>\n",
              "      <td>127</td>\n",
              "      <td>301.0</td>\n",
              "    </tr>\n",
              "    <tr>\n",
              "      <th>12</th>\n",
              "      <td>624</td>\n",
              "      <td>NaN</td>\n",
              "    </tr>\n",
              "    <tr>\n",
              "      <th>13</th>\n",
              "      <td>219</td>\n",
              "      <td>NaN</td>\n",
              "    </tr>\n",
              "    <tr>\n",
              "      <th>14</th>\n",
              "      <td>578</td>\n",
              "      <td>NaN</td>\n",
              "    </tr>\n",
              "  </tbody>\n",
              "</table>\n",
              "</div>\n",
              "      <button class=\"colab-df-convert\" onclick=\"convertToInteractive('df-227a8f8f-9c0c-49ae-ac1e-30f4aa01975e')\"\n",
              "              title=\"Convert this dataframe to an interactive table.\"\n",
              "              style=\"display:none;\">\n",
              "        \n",
              "  <svg xmlns=\"http://www.w3.org/2000/svg\" height=\"24px\"viewBox=\"0 0 24 24\"\n",
              "       width=\"24px\">\n",
              "    <path d=\"M0 0h24v24H0V0z\" fill=\"none\"/>\n",
              "    <path d=\"M18.56 5.44l.94 2.06.94-2.06 2.06-.94-2.06-.94-.94-2.06-.94 2.06-2.06.94zm-11 1L8.5 8.5l.94-2.06 2.06-.94-2.06-.94L8.5 2.5l-.94 2.06-2.06.94zm10 10l.94 2.06.94-2.06 2.06-.94-2.06-.94-.94-2.06-.94 2.06-2.06.94z\"/><path d=\"M17.41 7.96l-1.37-1.37c-.4-.4-.92-.59-1.43-.59-.52 0-1.04.2-1.43.59L10.3 9.45l-7.72 7.72c-.78.78-.78 2.05 0 2.83L4 21.41c.39.39.9.59 1.41.59.51 0 1.02-.2 1.41-.59l7.78-7.78 2.81-2.81c.8-.78.8-2.07 0-2.86zM5.41 20L4 18.59l7.72-7.72 1.47 1.35L5.41 20z\"/>\n",
              "  </svg>\n",
              "      </button>\n",
              "      \n",
              "  <style>\n",
              "    .colab-df-container {\n",
              "      display:flex;\n",
              "      flex-wrap:wrap;\n",
              "      gap: 12px;\n",
              "    }\n",
              "\n",
              "    .colab-df-convert {\n",
              "      background-color: #E8F0FE;\n",
              "      border: none;\n",
              "      border-radius: 50%;\n",
              "      cursor: pointer;\n",
              "      display: none;\n",
              "      fill: #1967D2;\n",
              "      height: 32px;\n",
              "      padding: 0 0 0 0;\n",
              "      width: 32px;\n",
              "    }\n",
              "\n",
              "    .colab-df-convert:hover {\n",
              "      background-color: #E2EBFA;\n",
              "      box-shadow: 0px 1px 2px rgba(60, 64, 67, 0.3), 0px 1px 3px 1px rgba(60, 64, 67, 0.15);\n",
              "      fill: #174EA6;\n",
              "    }\n",
              "\n",
              "    [theme=dark] .colab-df-convert {\n",
              "      background-color: #3B4455;\n",
              "      fill: #D2E3FC;\n",
              "    }\n",
              "\n",
              "    [theme=dark] .colab-df-convert:hover {\n",
              "      background-color: #434B5C;\n",
              "      box-shadow: 0px 1px 3px 1px rgba(0, 0, 0, 0.15);\n",
              "      filter: drop-shadow(0px 1px 2px rgba(0, 0, 0, 0.3));\n",
              "      fill: #FFFFFF;\n",
              "    }\n",
              "  </style>\n",
              "\n",
              "      <script>\n",
              "        const buttonEl =\n",
              "          document.querySelector('#df-227a8f8f-9c0c-49ae-ac1e-30f4aa01975e button.colab-df-convert');\n",
              "        buttonEl.style.display =\n",
              "          google.colab.kernel.accessAllowed ? 'block' : 'none';\n",
              "\n",
              "        async function convertToInteractive(key) {\n",
              "          const element = document.querySelector('#df-227a8f8f-9c0c-49ae-ac1e-30f4aa01975e');\n",
              "          const dataTable =\n",
              "            await google.colab.kernel.invokeFunction('convertToInteractive',\n",
              "                                                     [key], {});\n",
              "          if (!dataTable) return;\n",
              "\n",
              "          const docLinkHtml = 'Like what you see? Visit the ' +\n",
              "            '<a target=\"_blank\" href=https://colab.research.google.com/notebooks/data_table.ipynb>data table notebook</a>'\n",
              "            + ' to learn more about interactive tables.';\n",
              "          element.innerHTML = '';\n",
              "          dataTable['output_type'] = 'display_data';\n",
              "          await google.colab.output.renderOutput(dataTable, element);\n",
              "          const docLink = document.createElement('div');\n",
              "          docLink.innerHTML = docLinkHtml;\n",
              "          element.appendChild(docLink);\n",
              "        }\n",
              "      </script>\n",
              "    </div>\n",
              "  </div>\n",
              "  "
            ]
          },
          "metadata": {},
          "execution_count": 1
        }
      ]
    },
    {
      "cell_type": "code",
      "source": [
        "# 히스토그램으로 실제 데이터의 분포를 관찰\n",
        "import seaborn as sns \n",
        "import matplotlib.pyplot as plt\n",
        "\n",
        "sns.distplot(df.Moon)\n",
        "sns.distplot(df.Yoon[:12])\n",
        "plt.title(\"token_len\")\n",
        "plt.show()"
      ],
      "metadata": {
        "colab": {
          "base_uri": "https://localhost:8080/",
          "height": 388
        },
        "id": "Fr08yVxmv7xd",
        "outputId": "59ee760d-205d-4245-c329-749241e9bbc3"
      },
      "execution_count": null,
      "outputs": [
        {
          "output_type": "stream",
          "name": "stderr",
          "text": [
            "/usr/local/lib/python3.7/dist-packages/seaborn/distributions.py:2619: FutureWarning: `distplot` is a deprecated function and will be removed in a future version. Please adapt your code to use either `displot` (a figure-level function with similar flexibility) or `histplot` (an axes-level function for histograms).\n",
            "  warnings.warn(msg, FutureWarning)\n",
            "/usr/local/lib/python3.7/dist-packages/seaborn/distributions.py:2619: FutureWarning: `distplot` is a deprecated function and will be removed in a future version. Please adapt your code to use either `displot` (a figure-level function with similar flexibility) or `histplot` (an axes-level function for histograms).\n",
            "  warnings.warn(msg, FutureWarning)\n"
          ]
        },
        {
          "output_type": "display_data",
          "data": {
            "text/plain": [
              "<Figure size 432x288 with 1 Axes>"
            ],
            "image/png": "[encoded data removed]"
          },
          "metadata": {
            "needs_background": "light"
          }
        }
      ]
    },
    {
      "cell_type": "markdown",
      "source": [
        "* 그래프상으로도 정규성을 띄고 있음을 알 수 있다.\n",
        "* 정규분포곡선이 많이 중복된다는 것은 분산이 유사하다는 것"
      ],
      "metadata": {
        "id": "wlgziYZdXXJf"
      }
    },
    {
      "cell_type": "markdown",
      "source": [
        "* 정규성 검정(Shapiro)\n",
        "* 귀무가설 : 정규분포를 따른다.\n",
        "* 대립가설 : 정규분포를 따르지 않는다."
      ],
      "metadata": {
        "id": "onrauPA0ZIRd"
      }
    },
    {
      "cell_type": "code",
      "source": [
        "# shapiro 정규성 검증\n",
        "from scipy.stats import shapiro\n",
        "print(\"Moon\")\n",
        "print(shapiro(df.Moon))\n",
        "print(\"yoon\")\n",
        "print(shapiro(df.Yoon[:12]))"
      ],
      "metadata": {
        "colab": {
          "base_uri": "https://localhost:8080/"
        },
        "id": "StlATz_Vq2o_",
        "outputId": "6bf0ecac-b329-44ba-ca69-39422f094d2b"
      },
      "execution_count": null,
      "outputs": [
        {
          "output_type": "stream",
          "name": "stdout",
          "text": [
            "Moon\n",
            "ShapiroResult(statistic=0.9047576785087585, pvalue=0.11253652721643448)\n",
            "yoon\n",
            "ShapiroResult(statistic=0.9297704696655273, pvalue=0.3776855766773224)\n"
          ]
        }
      ]
    },
    {
      "cell_type": "markdown",
      "source": [
        "*p-value값이 모두 0.05보다 크기때문에 귀무가설을 채택하게 되어 정규성을 만족한다고 볼 수 있다."
      ],
      "metadata": {
        "id": "SfGQM4q1W3YB"
      }
    },
    {
      "cell_type": "code",
      "source": [
        "sampling_difference = df.Moon[:12].values - df.Yoon[:12].values\n",
        "stats.shapiro(sampling_difference)"
      ],
      "metadata": {
        "colab": {
          "base_uri": "https://localhost:8080/"
        },
        "id": "Z1f009RIW6-L",
        "outputId": "1349a6a8-d6e6-4c72-bb76-0fa7413a9046"
      },
      "execution_count": null,
      "outputs": [
        {
          "output_type": "execute_result",
          "data": {
            "text/plain": [
              "ShapiroResult(statistic=0.9198993444442749, pvalue=0.28508007526397705)"
            ]
          },
          "metadata": {},
          "execution_count": 20
        }
      ]
    },
    {
      "cell_type": "markdown",
      "source": [
        "* 등분산 검정\n",
        "* 등분산 검정에서 가장 많이 활용되는 것으로는 '레빈의 검정(Levene's test)' 와 '바틀렛 검정(Bartlett's test)'가 있다.\n",
        "* Levene's test : stats.levene(data1, data2)\n",
        "* Levene's test의 3 유형 https://ruahneuma.tistory.com/entry/R%EB%A1%9C-%EB%93%B1%EB%B6%84%EC%82%B0-%EA%B2%80%EC%A0%95Levene-Bartlett\n",
        "* Bartlett's test : stats.bartlett(data1, data2)\n",
        "* Bartlett의 등분산 검정은 정규성을 만족할 때만 쓸 수 있다.\n",
        "* 귀무가설 : 두 그룹은 등분산을 만족한다.\n",
        "* 대립가설 : 두 그룹은 등분산을 만족하지 않는다."
      ],
      "metadata": {
        "id": "5SI_1vPTX20_"
      }
    },
    {
      "cell_type": "code",
      "source": [
        "# Bartlett's test (데이터는 정규성을 만족할 때 사용)\n",
        "from scipy.stats import bartlett\n",
        "bartlett(df.Moon, df.Yoon[:12])"
      ],
      "metadata": {
        "colab": {
          "base_uri": "https://localhost:8080/"
        },
        "id": "Adum0uXAYGP_",
        "outputId": "705e2cf6-a705-4f6b-fd85-f7b5c932fc53"
      },
      "execution_count": null,
      "outputs": [
        {
          "output_type": "execute_result",
          "data": {
            "text/plain": [
              "BartlettResult(statistic=0.1492989920082721, pvalue=0.6992061686617722)"
            ]
          },
          "metadata": {},
          "execution_count": 4
        }
      ]
    },
    {
      "cell_type": "markdown",
      "source": [
        "* p-value > 0.05 이므로 귀무가설을 채택하여 등분산을 만족한다고 볼 수 있다."
      ],
      "metadata": {
        "id": "wTs9uQgKYcVF"
      }
    },
    {
      "cell_type": "code",
      "source": [
        "# Levene's test (데이터의 정규성과 관계 없음)\n",
        "from scipy.stats import levene\n",
        "levene(df.Moon, df.Yoon[:12])"
      ],
      "metadata": {
        "colab": {
          "base_uri": "https://localhost:8080/"
        },
        "id": "YUck_vZH0Y91",
        "outputId": "14a98e0f-da49-48ed-bf28-ec6fdac9d766"
      },
      "execution_count": null,
      "outputs": [
        {
          "output_type": "execute_result",
          "data": {
            "text/plain": [
              "LeveneResult(statistic=0.15138645836122874, pvalue=0.7005082908179641)"
            ]
          },
          "metadata": {},
          "execution_count": 5
        }
      ]
    },
    {
      "cell_type": "markdown",
      "source": [
        "* p-value > 0.05 이므로 귀무가설을 채택하여 등분산을 만족한다고 볼 수 있다.(Bartlett's test와 거의 비슷)"
      ],
      "metadata": {
        "id": "PFjwRaAvZoMf"
      }
    },
    {
      "cell_type": "code",
      "source": [
        "# F-검정에 의한 등분산성 검토\n",
        "from scipy.stats import f_oneway\n",
        "f_oneway(df.Moon, df.Yoon[:12])"
      ],
      "metadata": {
        "colab": {
          "base_uri": "https://localhost:8080/"
        },
        "id": "AC9BmBY-a5wA",
        "outputId": "d4f52c21-a9f6-46cb-ef18-49ba45895fec"
      },
      "execution_count": null,
      "outputs": [
        {
          "output_type": "execute_result",
          "data": {
            "text/plain": [
              "F_onewayResult(statistic=0.7758751865487173, pvalue=0.38679553132015976)"
            ]
          },
          "metadata": {},
          "execution_count": 6
        }
      ]
    },
    {
      "cell_type": "markdown",
      "source": [
        "* p-value > 0.05 이므로 귀무가설을 채택하여 등분산을 만족한다고 본다.\n",
        "* 앞의 2가지 방법이 더 여유있게 귀무가설을 채택했다."
      ],
      "metadata": {
        "id": "hgQIOCc_bSCM"
      }
    },
    {
      "cell_type": "markdown",
      "source": [
        "* 독립표본 t-검정 수행"
      ],
      "metadata": {
        "id": "DVmVxbNmbuld"
      }
    },
    {
      "cell_type": "code",
      "source": [
        "# 등분산이 가정될 때 t값과 p-value\n",
        "import scipy.stats as stats\n",
        "stats.ttest_ind(df.Moon, df.Yoon[:12], equal_var = True)  # equal_var = True는 등분산성 만족"
      ],
      "metadata": {
        "colab": {
          "base_uri": "https://localhost:8080/"
        },
        "id": "jtFx24BEbshd",
        "outputId": "62b8a58a-d90e-4b89-dc83-7b3f997feb3c"
      },
      "execution_count": null,
      "outputs": [
        {
          "output_type": "execute_result",
          "data": {
            "text/plain": [
              "Ttest_indResult(statistic=0.8808377753869995, pvalue=0.3867955313201594)"
            ]
          },
          "metadata": {},
          "execution_count": 7
        }
      ]
    },
    {
      "cell_type": "markdown",
      "source": [
        "* p-value > 0.05 이므로 귀무가설을 채택하여 문대통령과 윤대통령의 답변 문장의 평균 길이는 같다고 볼 수 있다.\n",
        "* 다시 말해서, **통계적으로 두 대통령의 답변의 양은 다르다고 할 수 없다.**"
      ],
      "metadata": {
        "id": "mohOz09h9YhM"
      }
    },
    {
      "cell_type": "code",
      "source": [
        "!pip install researchpy"
      ],
      "metadata": {
        "colab": {
          "base_uri": "https://localhost:8080/"
        },
        "id": "EZQulW3B9vIC",
        "outputId": "70279558-af8e-4a9e-ec97-6a5e9188d424"
      },
      "execution_count": null,
      "outputs": [
        {
          "output_type": "stream",
          "name": "stdout",
          "text": [
            "Looking in indexes: https://pypi.org/simple, https://us-python.pkg.dev/colab-wheels/public/simple/\n",
            "Collecting researchpy\n",
            "  Downloading researchpy-0.3.2-py3-none-any.whl (15 kB)\n",
            "Requirement already satisfied: patsy in /usr/local/lib/python3.7/dist-packages (from researchpy) (0.5.2)\n",
            "Requirement already satisfied: scipy in /usr/local/lib/python3.7/dist-packages (from researchpy) (1.7.3)\n",
            "Requirement already satisfied: pandas in /usr/local/lib/python3.7/dist-packages (from researchpy) (1.3.5)\n",
            "Requirement already satisfied: numpy in /usr/local/lib/python3.7/dist-packages (from researchpy) (1.21.6)\n",
            "Requirement already satisfied: statsmodels in /usr/local/lib/python3.7/dist-packages (from researchpy) (0.12.2)\n",
            "Requirement already satisfied: pytz>=2017.3 in /usr/local/lib/python3.7/dist-packages (from pandas->researchpy) (2022.2.1)\n",
            "Requirement already satisfied: python-dateutil>=2.7.3 in /usr/local/lib/python3.7/dist-packages (from pandas->researchpy) (2.8.2)\n",
            "Requirement already satisfied: six>=1.5 in /usr/local/lib/python3.7/dist-packages (from python-dateutil>=2.7.3->pandas->researchpy) (1.15.0)\n",
            "Installing collected packages: researchpy\n",
            "Successfully installed researchpy-0.3.2\n"
          ]
        }
      ]
    },
    {
      "cell_type": "code",
      "source": [
        "import pandas as pd\n",
        "import researchpy as rp\n",
        "import scipy.stats as stats"
      ],
      "metadata": {
        "id": "56U-3cjS9rBj"
      },
      "execution_count": null,
      "outputs": []
    },
    {
      "cell_type": "code",
      "source": [
        "rp.ttest(group1= df.Moon, group1_name= \"Moon\",\n",
        "         group2= df.Yoon[:12], group2_name= \"Yoon\")"
      ],
      "metadata": {
        "colab": {
          "base_uri": "https://localhost:8080/"
        },
        "id": "rcisMscx9_cy",
        "outputId": "b954ac67-38b9-42d0-ad3d-960708688ec9"
      },
      "execution_count": null,
      "outputs": [
        {
          "output_type": "execute_result",
          "data": {
            "text/plain": [
              "(   Variable     N        Mean          SD         SE   95% Conf.    Interval\n",
              " 0      Moon  15.0  311.866667  149.048825  38.484241  229.326178  394.407155\n",
              " 1      Yoon  12.0  263.333333  133.132424  38.432021  178.745026  347.921640\n",
              " 2  combined  27.0  290.296296  141.650658  27.260682  234.261162  346.331430,\n",
              "             Independent t-test  results\n",
              " 0  Difference (Moon - Yoon) =   48.5333\n",
              " 1        Degrees of freedom =   25.0000\n",
              " 2                         t =    0.8808\n",
              " 3     Two side test p value =    0.3868\n",
              " 4    Difference < 0 p value =    0.8066\n",
              " 5    Difference > 0 p value =    0.1934\n",
              " 6                 Cohen's d =    0.3411\n",
              " 7                 Hedge's g =    0.3308\n",
              " 8             Glass's delta =    0.3256\n",
              " 9               Pearson's r =    0.1735)"
            ]
          },
          "metadata": {},
          "execution_count": 11
        }
      ]
    },
    {
      "cell_type": "code",
      "source": [
        "summary, results = rp.ttest(group1= df.Moon, group1_name= \"Moon\",\n",
        "         group2= df.Yoon[:12], group2_name= \"Yoon\")\n",
        "summary"
      ],
      "metadata": {
        "colab": {
          "base_uri": "https://localhost:8080/",
          "height": 143
        },
        "id": "ctRD6F0fP5r6",
        "outputId": "667d1eb3-a23a-41d4-9fb1-9c0157fda753"
      },
      "execution_count": null,
      "outputs": [
        {
          "output_type": "execute_result",
          "data": {
            "text/plain": [
              "   Variable     N        Mean          SD         SE   95% Conf.    Interval\n",
              "0      Moon  15.0  311.866667  149.048825  38.484241  229.326178  394.407155\n",
              "1      Yoon  12.0  263.333333  133.132424  38.432021  178.745026  347.921640\n",
              "2  combined  27.0  290.296296  141.650658  27.260682  234.261162  346.331430"
            ],
            "text/html": [
              "\n",
              "  <div id=\"df-f99d6248-9565-44c0-ae65-4dd4b6df3690\">\n",
              "    <div class=\"colab-df-container\">\n",
              "      <div>\n",
              "<style scoped>\n",
              "    .dataframe tbody tr th:only-of-type {\n",
              "        vertical-align: middle;\n",
              "    }\n",
              "\n",
              "    .dataframe tbody tr th {\n",
              "        vertical-align: top;\n",
              "    }\n",
              "\n",
              "    .dataframe thead th {\n",
              "        text-align: right;\n",
              "    }\n",
              "</style>\n",
              "<table border=\"1\" class=\"dataframe\">\n",
              "  <thead>\n",
              "    <tr style=\"text-align: right;\">\n",
              "      <th></th>\n",
              "      <th>Variable</th>\n",
              "      <th>N</th>\n",
              "      <th>Mean</th>\n",
              "      <th>SD</th>\n",
              "      <th>SE</th>\n",
              "      <th>95% Conf.</th>\n",
              "      <th>Interval</th>\n",
              "    </tr>\n",
              "  </thead>\n",
              "  <tbody>\n",
              "    <tr>\n",
              "      <th>0</th>\n",
              "      <td>Moon</td>\n",
              "      <td>15.0</td>\n",
              "      <td>311.866667</td>\n",
              "      <td>149.048825</td>\n",
              "      <td>38.484241</td>\n",
              "      <td>229.326178</td>\n",
              "      <td>394.407155</td>\n",
              "    </tr>\n",
              "    <tr>\n",
              "      <th>1</th>\n",
              "      <td>Yoon</td>\n",
              "      <td>12.0</td>\n",
              "      <td>263.333333</td>\n",
              "      <td>133.132424</td>\n",
              "      <td>38.432021</td>\n",
              "      <td>178.745026</td>\n",
              "      <td>347.921640</td>\n",
              "    </tr>\n",
              "    <tr>\n",
              "      <th>2</th>\n",
              "      <td>combined</td>\n",
              "      <td>27.0</td>\n",
              "      <td>290.296296</td>\n",
              "      <td>141.650658</td>\n",
              "      <td>27.260682</td>\n",
              "      <td>234.261162</td>\n",
              "      <td>346.331430</td>\n",
              "    </tr>\n",
              "  </tbody>\n",
              "</table>\n",
              "</div>\n",
              "      <button class=\"colab-df-convert\" onclick=\"convertToInteractive('df-f99d6248-9565-44c0-ae65-4dd4b6df3690')\"\n",
              "              title=\"Convert this dataframe to an interactive table.\"\n",
              "              style=\"display:none;\">\n",
              "        \n",
              "  <svg xmlns=\"http://www.w3.org/2000/svg\" height=\"24px\"viewBox=\"0 0 24 24\"\n",
              "       width=\"24px\">\n",
              "    <path d=\"M0 0h24v24H0V0z\" fill=\"none\"/>\n",
              "    <path d=\"M18.56 5.44l.94 2.06.94-2.06 2.06-.94-2.06-.94-.94-2.06-.94 2.06-2.06.94zm-11 1L8.5 8.5l.94-2.06 2.06-.94-2.06-.94L8.5 2.5l-.94 2.06-2.06.94zm10 10l.94 2.06.94-2.06 2.06-.94-2.06-.94-.94-2.06-.94 2.06-2.06.94z\"/><path d=\"M17.41 7.96l-1.37-1.37c-.4-.4-.92-.59-1.43-.59-.52 0-1.04.2-1.43.59L10.3 9.45l-7.72 7.72c-.78.78-.78 2.05 0 2.83L4 21.41c.39.39.9.59 1.41.59.51 0 1.02-.2 1.41-.59l7.78-7.78 2.81-2.81c.8-.78.8-2.07 0-2.86zM5.41 20L4 18.59l7.72-7.72 1.47 1.35L5.41 20z\"/>\n",
              "  </svg>\n",
              "      </button>\n",
              "      \n",
              "  <style>\n",
              "    .colab-df-container {\n",
              "      display:flex;\n",
              "      flex-wrap:wrap;\n",
              "      gap: 12px;\n",
              "    }\n",
              "\n",
              "    .colab-df-convert {\n",
              "      background-color: #E8F0FE;\n",
              "      border: none;\n",
              "      border-radius: 50%;\n",
              "      cursor: pointer;\n",
              "      display: none;\n",
              "      fill: #1967D2;\n",
              "      height: 32px;\n",
              "      padding: 0 0 0 0;\n",
              "      width: 32px;\n",
              "    }\n",
              "\n",
              "    .colab-df-convert:hover {\n",
              "      background-color: #E2EBFA;\n",
              "      box-shadow: 0px 1px 2px rgba(60, 64, 67, 0.3), 0px 1px 3px 1px rgba(60, 64, 67, 0.15);\n",
              "      fill: #174EA6;\n",
              "    }\n",
              "\n",
              "    [theme=dark] .colab-df-convert {\n",
              "      background-color: #3B4455;\n",
              "      fill: #D2E3FC;\n",
              "    }\n",
              "\n",
              "    [theme=dark] .colab-df-convert:hover {\n",
              "      background-color: #434B5C;\n",
              "      box-shadow: 0px 1px 3px 1px rgba(0, 0, 0, 0.15);\n",
              "      filter: drop-shadow(0px 1px 2px rgba(0, 0, 0, 0.3));\n",
              "      fill: #FFFFFF;\n",
              "    }\n",
              "  </style>\n",
              "\n",
              "      <script>\n",
              "        const buttonEl =\n",
              "          document.querySelector('#df-f99d6248-9565-44c0-ae65-4dd4b6df3690 button.colab-df-convert');\n",
              "        buttonEl.style.display =\n",
              "          google.colab.kernel.accessAllowed ? 'block' : 'none';\n",
              "\n",
              "        async function convertToInteractive(key) {\n",
              "          const element = document.querySelector('#df-f99d6248-9565-44c0-ae65-4dd4b6df3690');\n",
              "          const dataTable =\n",
              "            await google.colab.kernel.invokeFunction('convertToInteractive',\n",
              "                                                     [key], {});\n",
              "          if (!dataTable) return;\n",
              "\n",
              "          const docLinkHtml = 'Like what you see? Visit the ' +\n",
              "            '<a target=\"_blank\" href=https://colab.research.google.com/notebooks/data_table.ipynb>data table notebook</a>'\n",
              "            + ' to learn more about interactive tables.';\n",
              "          element.innerHTML = '';\n",
              "          dataTable['output_type'] = 'display_data';\n",
              "          await google.colab.output.renderOutput(dataTable, element);\n",
              "          const docLink = document.createElement('div');\n",
              "          docLink.innerHTML = docLinkHtml;\n",
              "          element.appendChild(docLink);\n",
              "        }\n",
              "      </script>\n",
              "    </div>\n",
              "  </div>\n",
              "  "
            ]
          },
          "metadata": {},
          "execution_count": 14
        }
      ]
    },
    {
      "cell_type": "code",
      "source": [
        "results"
      ],
      "metadata": {
        "colab": {
          "base_uri": "https://localhost:8080/",
          "height": 363
        },
        "id": "i6en_gUgQjIg",
        "outputId": "6f851f1b-2989-4cc7-f776-e1469e0a8224"
      },
      "execution_count": null,
      "outputs": [
        {
          "output_type": "execute_result",
          "data": {
            "text/plain": [
              "            Independent t-test  results\n",
              "0  Difference (Moon - Yoon) =   48.5333\n",
              "1        Degrees of freedom =   25.0000\n",
              "2                         t =    0.8808\n",
              "3     Two side test p value =    0.3868\n",
              "4    Difference < 0 p value =    0.8066\n",
              "5    Difference > 0 p value =    0.1934\n",
              "6                 Cohen's d =    0.3411\n",
              "7                 Hedge's g =    0.3308\n",
              "8             Glass's delta =    0.3256\n",
              "9               Pearson's r =    0.1735"
            ],
            "text/html": [
              "\n",
              "  <div id=\"df-44de63c2-f5cc-4763-9a21-a2ecac7bba8b\">\n",
              "    <div class=\"colab-df-container\">\n",
              "      <div>\n",
              "<style scoped>\n",
              "    .dataframe tbody tr th:only-of-type {\n",
              "        vertical-align: middle;\n",
              "    }\n",
              "\n",
              "    .dataframe tbody tr th {\n",
              "        vertical-align: top;\n",
              "    }\n",
              "\n",
              "    .dataframe thead th {\n",
              "        text-align: right;\n",
              "    }\n",
              "</style>\n",
              "<table border=\"1\" class=\"dataframe\">\n",
              "  <thead>\n",
              "    <tr style=\"text-align: right;\">\n",
              "      <th></th>\n",
              "      <th>Independent t-test</th>\n",
              "      <th>results</th>\n",
              "    </tr>\n",
              "  </thead>\n",
              "  <tbody>\n",
              "    <tr>\n",
              "      <th>0</th>\n",
              "      <td>Difference (Moon - Yoon) =</td>\n",
              "      <td>48.5333</td>\n",
              "    </tr>\n",
              "    <tr>\n",
              "      <th>1</th>\n",
              "      <td>Degrees of freedom =</td>\n",
              "      <td>25.0000</td>\n",
              "    </tr>\n",
              "    <tr>\n",
              "      <th>2</th>\n",
              "      <td>t =</td>\n",
              "      <td>0.8808</td>\n",
              "    </tr>\n",
              "    <tr>\n",
              "      <th>3</th>\n",
              "      <td>Two side test p value =</td>\n",
              "      <td>0.3868</td>\n",
              "    </tr>\n",
              "    <tr>\n",
              "      <th>4</th>\n",
              "      <td>Difference &lt; 0 p value =</td>\n",
              "      <td>0.8066</td>\n",
              "    </tr>\n",
              "    <tr>\n",
              "      <th>5</th>\n",
              "      <td>Difference &gt; 0 p value =</td>\n",
              "      <td>0.1934</td>\n",
              "    </tr>\n",
              "    <tr>\n",
              "      <th>6</th>\n",
              "      <td>Cohen's d =</td>\n",
              "      <td>0.3411</td>\n",
              "    </tr>\n",
              "    <tr>\n",
              "      <th>7</th>\n",
              "      <td>Hedge's g =</td>\n",
              "      <td>0.3308</td>\n",
              "    </tr>\n",
              "    <tr>\n",
              "      <th>8</th>\n",
              "      <td>Glass's delta =</td>\n",
              "      <td>0.3256</td>\n",
              "    </tr>\n",
              "    <tr>\n",
              "      <th>9</th>\n",
              "      <td>Pearson's r =</td>\n",
              "      <td>0.1735</td>\n",
              "    </tr>\n",
              "  </tbody>\n",
              "</table>\n",
              "</div>\n",
              "      <button class=\"colab-df-convert\" onclick=\"convertToInteractive('df-44de63c2-f5cc-4763-9a21-a2ecac7bba8b')\"\n",
              "              title=\"Convert this dataframe to an interactive table.\"\n",
              "              style=\"display:none;\">\n",
              "        \n",
              "  <svg xmlns=\"http://www.w3.org/2000/svg\" height=\"24px\"viewBox=\"0 0 24 24\"\n",
              "       width=\"24px\">\n",
              "    <path d=\"M0 0h24v24H0V0z\" fill=\"none\"/>\n",
              "    <path d=\"M18.56 5.44l.94 2.06.94-2.06 2.06-.94-2.06-.94-.94-2.06-.94 2.06-2.06.94zm-11 1L8.5 8.5l.94-2.06 2.06-.94-2.06-.94L8.5 2.5l-.94 2.06-2.06.94zm10 10l.94 2.06.94-2.06 2.06-.94-2.06-.94-.94-2.06-.94 2.06-2.06.94z\"/><path d=\"M17.41 7.96l-1.37-1.37c-.4-.4-.92-.59-1.43-.59-.52 0-1.04.2-1.43.59L10.3 9.45l-7.72 7.72c-.78.78-.78 2.05 0 2.83L4 21.41c.39.39.9.59 1.41.59.51 0 1.02-.2 1.41-.59l7.78-7.78 2.81-2.81c.8-.78.8-2.07 0-2.86zM5.41 20L4 18.59l7.72-7.72 1.47 1.35L5.41 20z\"/>\n",
              "  </svg>\n",
              "      </button>\n",
              "      \n",
              "  <style>\n",
              "    .colab-df-container {\n",
              "      display:flex;\n",
              "      flex-wrap:wrap;\n",
              "      gap: 12px;\n",
              "    }\n",
              "\n",
              "    .colab-df-convert {\n",
              "      background-color: #E8F0FE;\n",
              "      border: none;\n",
              "      border-radius: 50%;\n",
              "      cursor: pointer;\n",
              "      display: none;\n",
              "      fill: #1967D2;\n",
              "      height: 32px;\n",
              "      padding: 0 0 0 0;\n",
              "      width: 32px;\n",
              "    }\n",
              "\n",
              "    .colab-df-convert:hover {\n",
              "      background-color: #E2EBFA;\n",
              "      box-shadow: 0px 1px 2px rgba(60, 64, 67, 0.3), 0px 1px 3px 1px rgba(60, 64, 67, 0.15);\n",
              "      fill: #174EA6;\n",
              "    }\n",
              "\n",
              "    [theme=dark] .colab-df-convert {\n",
              "      background-color: #3B4455;\n",
              "      fill: #D2E3FC;\n",
              "    }\n",
              "\n",
              "    [theme=dark] .colab-df-convert:hover {\n",
              "      background-color: #434B5C;\n",
              "      box-shadow: 0px 1px 3px 1px rgba(0, 0, 0, 0.15);\n",
              "      filter: drop-shadow(0px 1px 2px rgba(0, 0, 0, 0.3));\n",
              "      fill: #FFFFFF;\n",
              "    }\n",
              "  </style>\n",
              "\n",
              "      <script>\n",
              "        const buttonEl =\n",
              "          document.querySelector('#df-44de63c2-f5cc-4763-9a21-a2ecac7bba8b button.colab-df-convert');\n",
              "        buttonEl.style.display =\n",
              "          google.colab.kernel.accessAllowed ? 'block' : 'none';\n",
              "\n",
              "        async function convertToInteractive(key) {\n",
              "          const element = document.querySelector('#df-44de63c2-f5cc-4763-9a21-a2ecac7bba8b');\n",
              "          const dataTable =\n",
              "            await google.colab.kernel.invokeFunction('convertToInteractive',\n",
              "                                                     [key], {});\n",
              "          if (!dataTable) return;\n",
              "\n",
              "          const docLinkHtml = 'Like what you see? Visit the ' +\n",
              "            '<a target=\"_blank\" href=https://colab.research.google.com/notebooks/data_table.ipynb>data table notebook</a>'\n",
              "            + ' to learn more about interactive tables.';\n",
              "          element.innerHTML = '';\n",
              "          dataTable['output_type'] = 'display_data';\n",
              "          await google.colab.output.renderOutput(dataTable, element);\n",
              "          const docLink = document.createElement('div');\n",
              "          docLink.innerHTML = docLinkHtml;\n",
              "          element.appendChild(docLink);\n",
              "        }\n",
              "      </script>\n",
              "    </div>\n",
              "  </div>\n",
              "  "
            ]
          },
          "metadata": {},
          "execution_count": 16
        }
      ]
    }
  ]
}