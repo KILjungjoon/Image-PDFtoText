{
  "nbformat": 4,
  "nbformat_minor": 0,
  "metadata": {
    "colab": {
      "name": "PDFtoTXTinCOLAB",
      "provenance": [],
      "collapsed_sections": [],
      "authorship_tag": "ABX9TyOA7yFi0cmAYyYzWRDRFH0p",
      "include_colab_link": true
    },
    "kernelspec": {
      "name": "python3",
      "display_name": "Python 3"
    },
    "language_info": {
      "name": "python"
    }
  },
  "cells": [
    {
      "cell_type": "markdown",
      "metadata": {
        "id": "view-in-github",
        "colab_type": "text"
      },
      "source": [
        "<a href=\"https://colab.research.google.com/github/KILjungjoon/Image-PDFtoText/blob/main/PDFtoTXTinCOLAB.ipynb\" target=\"_parent\"><img src=\"https://colab.research.google.com/assets/colab-badge.svg\" alt=\"Open In Colab\"/></a>"
      ]
    },
    {
      "cell_type": "markdown",
      "source": [
        "# 1.Install pdf library"
      ],
      "metadata": {
        "id": "6AJJAwoj6kPs"
      }
    },
    {
      "cell_type": "code",
      "source": [
        "!pip install pdfplumber"
      ],
      "metadata": {
        "colab": {
          "base_uri": "https://localhost:8080/"
        },
        "id": "Stzh48tULKiD",
        "outputId": "01c2f5e5-8e0e-4654-f88e-1f625df6e072"
      },
      "execution_count": 4,
      "outputs": [
        {
          "output_type": "stream",
          "name": "stdout",
          "text": [
            "Looking in indexes: https://pypi.org/simple, https://us-python.pkg.dev/colab-wheels/public/simple/\n",
            "Requirement already satisfied: pdfplumber in /usr/local/lib/python3.7/dist-packages (0.7.4)\n",
            "Requirement already satisfied: Pillow>=9.1 in /usr/local/lib/python3.7/dist-packages (from pdfplumber) (9.2.0)\n",
            "Requirement already satisfied: pdfminer.six==20220524 in /usr/local/lib/python3.7/dist-packages (from pdfplumber) (20220524)\n",
            "Requirement already satisfied: Wand>=0.6.7 in /usr/local/lib/python3.7/dist-packages (from pdfplumber) (0.6.10)\n",
            "Requirement already satisfied: charset-normalizer>=2.0.0 in /usr/local/lib/python3.7/dist-packages (from pdfminer.six==20220524->pdfplumber) (2.1.0)\n",
            "Requirement already satisfied: cryptography>=36.0.0 in /usr/local/lib/python3.7/dist-packages (from pdfminer.six==20220524->pdfplumber) (37.0.4)\n",
            "Requirement already satisfied: cffi>=1.12 in /usr/local/lib/python3.7/dist-packages (from cryptography>=36.0.0->pdfminer.six==20220524->pdfplumber) (1.15.1)\n",
            "Requirement already satisfied: pycparser in /usr/local/lib/python3.7/dist-packages (from cffi>=1.12->cryptography>=36.0.0->pdfminer.six==20220524->pdfplumber) (2.21)\n"
          ]
        }
      ]
    },
    {
      "cell_type": "code",
      "execution_count": 1,
      "metadata": {
        "colab": {
          "base_uri": "https://localhost:8080/"
        },
        "id": "X4lTWhB9e5-E",
        "outputId": "23b98eb8-98a2-47be-f4a4-00c9b3333f02"
      },
      "outputs": [
        {
          "output_type": "stream",
          "name": "stdout",
          "text": [
            "Looking in indexes: https://pypi.org/simple, https://us-python.pkg.dev/colab-wheels/public/simple/\n",
            "Collecting tika\n",
            "  Downloading tika-1.24.tar.gz (28 kB)\n",
            "Requirement already satisfied: setuptools in /usr/local/lib/python3.7/dist-packages (from tika) (57.4.0)\n",
            "Requirement already satisfied: requests in /usr/local/lib/python3.7/dist-packages (from tika) (2.23.0)\n",
            "Requirement already satisfied: chardet<4,>=3.0.2 in /usr/local/lib/python3.7/dist-packages (from requests->tika) (3.0.4)\n",
            "Requirement already satisfied: urllib3!=1.25.0,!=1.25.1,<1.26,>=1.21.1 in /usr/local/lib/python3.7/dist-packages (from requests->tika) (1.24.3)\n",
            "Requirement already satisfied: certifi>=2017.4.17 in /usr/local/lib/python3.7/dist-packages (from requests->tika) (2022.6.15)\n",
            "Requirement already satisfied: idna<3,>=2.5 in /usr/local/lib/python3.7/dist-packages (from requests->tika) (2.10)\n",
            "Building wheels for collected packages: tika\n",
            "  Building wheel for tika (setup.py) ... \u001b[?25l\u001b[?25hdone\n",
            "  Created wheel for tika: filename=tika-1.24-py3-none-any.whl size=32893 sha256=d757c6bff095302b0b58f0f4179f9c7d7baba1edfd52278c563d327e01936352\n",
            "  Stored in directory: /root/.cache/pip/wheels/ec/2b/38/58ff05467a742e32f67f5d0de048fa046e764e2fbb25ac93f3\n",
            "Successfully built tika\n",
            "Installing collected packages: tika\n",
            "Successfully installed tika-1.24\n"
          ]
        }
      ],
      "source": [
        "!pip install tika"
      ]
    },
    {
      "cell_type": "markdown",
      "source": [
        "# 2.Extraction text from the pdf file"
      ],
      "metadata": {
        "id": "dyYJpxAq61DM"
      }
    },
    {
      "cell_type": "code",
      "source": [
        "import pdfplumber\n",
        "with pdfplumber.open(\"/content/sample_korean.pdf\") as temp:\n",
        "  first_page = temp.pages[0]\n",
        "  print(first_page.extract_text())"
      ],
      "metadata": {
        "colab": {
          "base_uri": "https://localhost:8080/"
        },
        "id": "TDo56lrbIBhk",
        "outputId": "d5d33c31-4214-4bcf-fac6-76670e8e8e44"
      },
      "execution_count": 5,
      "outputs": [
        {
          "output_type": "stream",
          "name": "stdout",
          "text": [
            "I.서 론\n",
            "1.연구의 필요성과 목적\n",
            "교과서는 학교 교육의 가장 기본이 되는 교수학습 자료라 할 수 있다.그러므로 교육\n",
            "의 근간이 되는 교과서를 만드는 일은 중요하다.당위론적으로 볼 때,교과서에는 교육\n",
            "이념과 목적이 들어 있고,각 교과의 목표를 구현하기 위한 교육 내용과 방법이 구체화\n",
            "되어 있다.학교급이나 학년을 막론하고 교사는 교과서를 주된 교재로 삼아 가르치고,\n",
            "학생도 교과서를 주된 학습 자료로 하여 배운다.아직까지는 학교 교육 현장에서 활용\n",
            "되는 자료로서 인쇄 자료인 교과서를 능가하는 교수-학습 자료는 없다.그래서 교과서\n",
            "를 만드는 일은 중요하다.\n",
            "‘교육의 질은 교사의 질을 능가하지 못한다’는 말이 있지만,교과서의 영향력을 감안\n",
            "해 볼 때,이보다는 ‘교육의 질은 교과서의 질을 넘지 못한다’는 표현이 현실적으로는\n",
            "더 적당할 지도 모른다.그만큼 교과서는 교육을 전국적으로 통제하는 가장 강력한 수\n",
            "단이 된 것이다.교과서가 교육의 통제 수단으로 작용하고 있다는 것은 교육에 미치는\n",
            "교과서의 영향을 살펴보면 쉽게 알 수 있다.교과서는 교육과정에 제시된 교육 내용을\n",
            "학생 수준에 맞게 선정 ·조직하고 제시한 내용 설명서이며 해설서이다.그러므로 학교\n",
            "에서 ‘무엇을’가르치는가 하는 것은 교과서에 의해서 결정된다고 볼 수 있다.교과서는\n",
            "또한 선정 ·조직한 교육 내용을 가르치는 교수 및 학습 방법의 안내서이기도 하다.그\n",
            "러므로 학교에서 ‘어떻게’가르치고 있는가 하는 것도 어느 정도는 교과서에 의해서 결\n",
            "정된다고 볼 수 있다.\n",
            "수업의 내용과 방법 결정에 교과서가 얼마나 결정적인 영향을 미치는가 하는 것은 교\n",
            "사들이 수업 운용에서 교과서에 어느 정도 의존하고 있는가를 보면 쉽게 알 수 있다.\n",
            "교육 내용의 선정이나 교수 방법의 선택이 우리나라보다 훨씬 자유스럽고 다양한 미국\n",
            "에서도 초등학교 읽기 지도의 내용과 방법의 75∼90%가 소위 기초 프로그램(basal\n",
            "readingprogram)이라는 교재에 의해 수행되고 있는 실정이다(Gunning,2000:387).우\n",
            "리나라의 경우도 상황은 마찬가지이다.초등학교 국어와 수학 수업에 대한 교사 상대의\n",
            "설문 조사에서 교과서 이외의 자료는 30% 정도도 활용하고 있지 않다는 결과가 있었다\n",
            "(노명완 ·정혜승 ·옥현진,2003:124-126).이 같은 교과서 의존도는 중학교나 고등학\n",
            "교에 이르면 더욱 높아질 것이 분명하다.교사들의 교과서 의존도가 이렇게 높기 때문\n",
            "에 교과서를 펼쳐 보면 지금 학교에서 무슨 내용을 어떻게 가르치고 있는지를 쉽게 알\n",
            "수 있다.교과서는 교육의 내용과 방법을 보여주는 실질적인 교육 안내서가 된다.그래\n",
            "서 교과서를 개발하는 일은 중요하다.\n",
            "- 7 -\n"
          ]
        }
      ]
    },
    {
      "cell_type": "code",
      "execution_count": 3,
      "metadata": {
        "id": "Fjt0BZtAqyyg",
        "colab": {
          "base_uri": "https://localhost:8080/"
        },
        "outputId": "610b39a6-66b1-4948-cc1a-fb992042eedc"
      },
      "outputs": [
        {
          "output_type": "stream",
          "name": "stdout",
          "text": [
            "<class 'dict'>\n",
            "<class 'str'>\n",
            "\n",
            "\n",
            "\n",
            "\n",
            "\n",
            "\n",
            "\n",
            "\n",
            "\n",
            "\n",
            "\n",
            "\n",
            "\n",
            "\n",
            "\n",
            "\n",
            "\n",
            "\n",
            "\n",
            "\n",
            "\n",
            "\n",
            "\n",
            "\n",
            "- 7 -\n",
            "\n",
            "I.서 론\n",
            "\n",
            "1.연구의 필요성과 목\n",
            "\n",
            "교과서는 학교 교육의 가장 기본이 되는 교수학습 자료라 할 수 있다.그러므로 교육\n",
            "\n",
            "의 근간이 되는 교과서를 만드는 일은 요하다.당 론 으로 볼 때,교과서에는 교육\n",
            "\n",
            "이념과 목 이 들어 있고,각 교과의 목표를 구 하기 한 교육 내용과 방법이 구체화\n",
            "\n",
            "되어 있다.학교 이나 학년을 막론하고 교사는 교과서를 주된 교재로 삼아 가르치고,\n",
            "\n",
            "학생도 교과서를 주된 학습 자료로 하여 배운다.아직까지는 학교 교육 장에서 활용\n",
            "\n",
            "되는 자료로서 인쇄 자료인 교과서를 능가하는 교수-학습 자료는 없다.그래서 교과서\n",
            "\n",
            "를 만드는 일은 요하다.\n",
            "\n",
            "‘교육의 질은 교사의 질을 능가하지 못한다’는 말이 있지만,교과서의 향력을 감안\n",
            "\n",
            "해 볼 때,이보다는 ‘교육의 질은 교과서의 질을 넘지 못한다’는 표 이 실 으로는\n",
            "\n",
            "더 당할 지도 모른다.그만큼 교과서는 교육을 국 으로 통제하는 가장 강력한 수\n",
            "\n",
            "단이 된 것이다.교과서가 교육의 통제 수단으로 작용하고 있다는 것은 교육에 미치는\n",
            "\n",
            "교과서의 향을 살펴보면 쉽게 알 수 있다.교과서는 교육과정에 제시된 교육 내용을\n",
            "\n",
            "학생 수 에 맞게 선정 ·조직하고 제시한 내용 설명서이며 해설서이다.그러므로 학교\n",
            "\n",
            "에서 ‘무엇을’가르치는가 하는 것은 교과서에 의해서 결정된다고 볼 수 있다.교과서는\n",
            "\n",
            "한 선정 ·조직한 교육 내용을 가르치는 교수 학습 방법의 안내서이기도 하다.그\n",
            "\n",
            "러므로 학교에서 ‘어떻게’가르치고 있는가 하는 것도 어느 정도는 교과서에 의해서 결\n",
            "\n",
            "정된다고 볼 수 있다.\n",
            "\n",
            "수업의 내용과 방법 결정에 교과서가 얼마나 결정 인 향을 미치는가 하는 것은 교\n",
            "\n",
            "사들이 수업 운용에서 교과서에 어느 정도 의존하고 있는가를 보면 쉽게 알 수 있다.\n",
            "\n",
            "교육 내용의 선정이나 교수 방법의 선택이 우리나라보다 훨씬 자유스럽고 다양한 미국\n",
            "\n",
            "에서도 등학교 읽기 지도의 내용과 방법의 75∼90%가 소 기 로그램(basal\n",
            "\n",
            "readingprogram)이라는 교재에 의해 수행되고 있는 실정이다(Gunning,2000:387).우\n",
            "\n",
            "리나라의 경우도 상황은 마찬가지이다. 등학교 국어와 수학 수업에 한 교사 상 의\n",
            "\n",
            "설문 조사에서 교과서 이외의 자료는 30% 정도도 활용하고 있지 않다는 결과가 있었다\n",
            "\n",
            "(노명완 ·정혜승 ·옥 진,2003:124-126).이 같은 교과서 의존도는 학교나 고등학\n",
            "\n",
            "교에 이르면 더욱 높아질 것이 분명하다.교사들의 교과서 의존도가 이 게 높기 때문\n",
            "\n",
            "에 교과서를 펼쳐 보면 지 학교에서 무슨 내용을 어떻게 가르치고 있는지를 쉽게 알\n",
            "\n",
            "수 있다.교과서는 교육의 내용과 방법을 보여주는 실질 인 교육 안내서가 된다.그래\n",
            "\n",
            "서 교과서를 개발하는 일은 요하다.\n",
            "\n",
            "\n",
            "\n",
            "\n",
            "\n"
          ]
        }
      ],
      "source": [
        "# 라이브러러 tika와 pyPDF2로 쉽게 pdf의 텍스트를 출력 가능\n",
        "from tika import parser # pip install tika\n",
        "\n",
        "raw= parser.from_file('/content/sample_korean.pdf')  # 딕셔너리가 생성된다.\n",
        "print(type(raw))\n",
        "text=raw['content']          # key 'content'의 value를 불러와서 text에 담는다.\n",
        "print(type(text))            # text는 스트링이다.\n",
        "print(text)"
      ]
    }
  ]
}